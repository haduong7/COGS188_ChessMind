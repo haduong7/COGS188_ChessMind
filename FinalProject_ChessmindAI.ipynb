{
 "cells": [
  {
   "cell_type": "markdown",
   "metadata": {},
   "source": [
    "# COGS 118B - Final Project"
   ]
  },
  {
   "cell_type": "markdown",
   "metadata": {},
   "source": [
    "# ChessMindsAI\n",
    "\n",
    "#### Github\n",
    "https://github.com/haduong7/COGS188_ChessMind\n",
    "\n",
    "#### Group members\n",
    "- Shihua Yang\n",
    "- Zhiheng Wu\n",
    "- Ha Duong"
   ]
  },
  {
   "cell_type": "markdown",
   "metadata": {},
   "source": [
    "# Abstract \n",
    "This project implements and compares four distinct approaches to chess artificial intelligence: minimax with alpha-beta pruning, Monte Carlo Tree Search (MCTS), neural network evaluation, and a hybrid approach combining neural networks with MCTS. We developed a comprehensive chess environment to evaluate these methods objectively through tournament play, computational efficiency, and decision quality. Our results indicate that the hybrid approach achieves the strongest performance with a win rate of 30%, while pure minimax demonstrates exceptional stability with the highest number of draws. MCTS performed poorly in limited-iteration scenarios, showing the importance of sufficient exploration. The neural network approach showed promising results but demonstrated training instability. These findings highlight the complementary strengths of traditional search algorithms and modern machine learning techniques, suggesting that combining these approaches yields the most robust chess AI under resource constraints."
   ]
  },
  {
   "attachments": {},
   "cell_type": "markdown",
   "metadata": {},
   "source": [
    "# Background\n",
    "\n",
    "Chess has been a central challenge in AI since its inception. Early methods relied heavily on minimax search and hand-created evaluation functions<a name=\"1\"></a>[<sup>[1]</sup>](#1), eventually culminating in IBM's Deep Blue defeating world champion Garry Kasparov in 1997 <a name=\"2\"></a>[<sup>[2]</sup>](#2).The landscape of computer chess changed dramatically with the introduction of Monte Carlo Tree Search (MCTS) in 2006. MCTS offered several advantages over traditional minimax: it required no domain-specific evaluation functions, scaled well with available computation, and could be effectively combined with machine learning approaches. This laid the groundwork for DeepMind's AlphaZero in 2017[3]. This demonstrated that a neural network combined with MCTS can achieve superhuman performance through pure self-play, without any human knowledge beyond the rules of chess<a name=\"3\"></a>[<sup>[3]</sup>](#3). Recent work has focused on creating more efficient hybrid approaches. The Leela Chess Zero project demonstrated that open-source implementations could replicate AlphaZero's success and showed how neural networks could be effectively combined with traditional alpha-beta search<a name=\"4\"></a>[<sup>[4]</sup>](#4). The success of these different approaches has sparked interest in comparing their relative strengths and weaknesses in controlled environments, especially in resource-constrained situations."
   ]
  },
  {
   "cell_type": "markdown",
   "metadata": {},
   "source": [
    "# Problem Statement\n",
    "\n",
    "The project addresses the problem of implementing and comparing multiple AI algorithms for playing chess. We specifically focus on four different methods: minimax with alpha-beta pruning, MCTS, neural network evaluation, and a hybrid approach combining neural networks with MCTS. This problem is quantifiable through two well-defined metrics:\n",
    "\n",
    "1. Playing strength measured by win rates and tournament performance\n",
    "\n",
    "2. Computational efficiency measured in nodes explored per second and time per move\n",
    "\n",
    "The problem is measurable and replicable through our tournament system that automatically plays games between all agent combinations with consistent parameters. Our solution is ML-relevant as it includes both traditional AI search techniques and modern machine learning approaches, allowing for direct comparison under the same conditions and with the same evaluation criteria."
   ]
  },
  {
   "cell_type": "markdown",
   "metadata": {},
   "source": [
    "# Data\n",
    "\n",
    "Unlike many ML projects that use static datasets, our project primarily generates data through self-play and agent interactions. The primary data source is the state space of chess positions and move sequences generated during agent gameplay and training.\n",
    "\n",
    "#### Self-generated data:\n",
    "\n",
    "1. Training data for neural network: Generated through self-play during the PPO training process. Each game have sequences of board states, actions, rewards, and game outcomes.\n",
    "\n",
    "2. Tournament results: Generated from systematic matchups between all agent combinations, while tracking wins, losses, draws, and detailed game statistics.\n",
    " \n",
    "3. Computational performance metrics: Nodes explored, time per move, and efficiency measurements for each agent.\n",
    "\n",
    "#### Data representation:\n",
    "\n",
    "Our chess environment (chess_env.py) represents the chess state in several formats:\n",
    "\n",
    "8x8x14 tensor representation: Each position is encoded as an 8×8 board with 14 channels (6 piece types × 2 colors and 2 auxiliary channels)\n",
    "\n",
    "FEN string: Standard chess notation for board positions\n",
    "\n",
    "Move sequences: Stored in UCI format (ex. e2e4)\n",
    "\n",
    "PGN files: Complete games recorded in Portable Game Notation format\n",
    "\n",
    "#### Recording \n",
    "The GameRecorder class (in game_recorder.py) records all games in standard PGN format. It stores metadata like player names, dates, and results along with the complete move sequences. These PGN files serve multiple purposes:\n",
    "\n",
    "1. Permanent storage of game records for later analysis\n",
    "2. Input for our visualization tools (pgn_visualizer.py)\n",
    "3. Source data for GIF creation of interesting games (create_gifs.py)\n",
    "\n",
    "When training the neural network, we accumulated approximately:\n",
    "\n",
    "- 600 episodes of training / 100 games per episode\n",
    "\n",
    "- ~4 million board positions (assuming 40 moves per game)\n",
    "\n",
    "- ~60000 complete games\n",
    "\n",
    "#### Evaluation\n",
    "For evaluation, our tournament generated:\n",
    "\n",
    "120 total games (10 games per matchup between 4 agents), a comprehensive tournament PGN file containing all games, and detailed statistics on win rates, draw rates, and game lengths\n"
   ]
  },
  {
   "cell_type": "markdown",
   "metadata": {},
   "source": [
    "# Proposed Solution\n",
    "\n",
    "Our solution implements four distinct chess-playing approaches, all designed to operate within a common environment for fair comparison.\n",
    "\n",
    "We developed a minimax agent with alpha-beta pruning that searches the game tree to a configurable depth (default: 4 ply). The MinimaxAgent implements optimizations including alpha-beta pruning to eliminate irrelevant branches, iterative deepening for timely responses, and move ordering to maximize efficiency. Position evaluation uses a straightforward material-based function with standard piece values, providing a simple but effective heuristic.\n",
    "\n",
    "Our second approach explores Monte Carlo Tree Search (MCTS), which builds a statistical model of the game tree. The MCTSAgent balances exploration versus exploitation using the UCB1 formula, conducting random playouts to estimate position values rather than using complex evaluation functions. As simulations accumulate, the search gradually focuses on promising lines while including timeout handling for real-time performance.\n",
    "\n",
    "The third approach utilizes deep learning with our NeuralAgent. This agent employs a convolutional neural network architecture with separate policy and value heads. Board states are represented as 8×8×14 tensors, with the policy head outputting move probabilities and the value head evaluating positions. We trained this network using Proximal Policy Optimization (PPO) through self-play, allowing the agent to learn chess strategy without human knowledge beyond the rules.\n",
    "\n",
    "Our final approach is the HybridAgent, which combines MCTS with neural guidance. This agent uses the neural network's policy output to guide tree expansion, replacing random playouts with neural value predictions for leaf node evaluation. This hybrid approach balances traditional search with learned knowledge, typically requiring fewer iterations than pure MCTS to achieve superior performance."
   ]
  },
  {
   "cell_type": "markdown",
   "metadata": {},
   "source": [
    "# Evaluation Metrics\n",
    "\n",
    "We evaluated our chess agents using 2 main metrics, and 1 more for NeuralNet-PPO:\n",
    "\n",
    "#### Tournament Performance\n",
    "We conducted a round robin style tournament where each agent played against all others 10 times, alternating colors. This metric shows a model's relative playing strength. We kept track of:\n",
    "\n",
    "1. Win rate: Percentage of games won\n",
    "2. Draw rate: Percentage of games drawn\n",
    "3. Loss rate: Percentage of games lost\n",
    "4. Points: Standard chess scoring (win: +1, draw: +0.5, loss: 0)\n",
    "\n",
    "#### Computational Efficiency\n",
    "Efficiency is how quickly a model can make a decision. Namely:\n",
    "\n",
    "1. Nodes/second: Number of positions evaluated per second\n",
    "2. Time/move: Average time spent deciding a move\n",
    "3. Memory usage: How much memory is used during play\n",
    "\n",
    "#### Training Loss + Internal Elo (For NeuralNet-PPO only)\n",
    "For NeuralNet PPO we kept track of the training loss, and an internal elo rating. Eventhough training loss doesn't directly correlate to PPO's efficacy, seeing stabilization in training loss can be a good sign that we have a stable neural network. In order to see if models are actually improving, we implemented an internal Elo system. Elo is a rating system used widely in many games, including chess. Online platforms like chess.com, or lichess.org use the elo system and even FIDE the international chess federation implement elo--though slightly differently. Elo is defined as:\n",
    "\n",
    "$$\n",
    "R' = R + K(S - E)\n",
    "$$\n",
    "\n",
    "where:\n",
    "\n",
    "- \\( R' \\) is the new rating after the game.\n",
    "- \\( R \\) is the current rating.\n",
    "- \\( K \\) is the K-factor (adjustment factor, often set to 10, 20, or 40 based on rating level).\n",
    "- \\( S \\) is the actual score of the game (1 for a win, 0.5 for a draw, 0 for a loss).\n",
    "- \\( E \\) is the expected score, calculated as:\n",
    "\n",
    "$$\n",
    "E = \\frac{1}{1 + 10^{(R_{\\text{opponent}} - R)/400}}\n",
    "$$\n",
    "\n",
    "where:\n",
    "\n",
    "- R_opponent is the rating of the opponent.\n",
    "- The denominator adjusts based on the rating difference.\n",
    "  \n",
    "\n",
    "1. **Expected Score \\( E \\)**: The expected probability of winning is based on the relative ratings of the two players.\n",
    "2. **Score Difference \\( S - E \\)**: If a player scores better than expected, their rating increases. If they perform worse, their rating decreases.\n",
    "3. **K-Factor \\( K \\)**: Controls how much the rating changes per game. Higher values lead to more volatile ratings.\n",
    "\n",
    "\n",
    "Essentially the elo system takes in account how much \"better\" your opponent is than you and thus rewards you more if you win. We implemented this like so:"
   ]
  },
  {
   "cell_type": "code",
   "execution_count": 1,
   "metadata": {},
   "outputs": [],
   "source": [
    "def calculate_elo(winner_elo, loser_elo, K=32, draw=False):\n",
    "    \"\"\"Updates Elo ratings after a match.\"\"\"\n",
    "    expected_winner = 1 / (1 + 10 ** ((loser_elo - winner_elo) / 400))\n",
    "    expected_loser = 1 - expected_winner  # Expected score for the loser\n",
    "\n",
    "    if draw:\n",
    "        winner_score, loser_score = 0.5, 0.5\n",
    "    else:\n",
    "        winner_score, loser_score = 1, 0\n",
    "\n",
    "    new_winner_elo = winner_elo + K * (winner_score - expected_winner)\n",
    "    new_loser_elo = loser_elo + K * (loser_score - expected_loser)\n",
    "\n",
    "    return round(new_winner_elo, 2), round(new_loser_elo, 2)"
   ]
  },
  {
   "cell_type": "markdown",
   "metadata": {},
   "source": [
    "During training we initialize all model's starting elo to be 1500. For every set interval of iterations during self-play training, we match up the current model with the best model and have them play 30 games. If the current model wins more than 55% of the time we determine this model as the new best, updates its elo, and update the new best model's elo. We can see a clear upwards trend, signaling that our models are beating previous best models and getting stronger at chess. *Note* that this is an internal arbitrary elo rating which is not to be compared with other model's established FIDE elo."
   ]
  },
  {
   "cell_type": "code",
   "execution_count": 6,
   "metadata": {},
   "outputs": [],
   "source": [
    "import pandas as pd\n",
    "import matplotlib.pyplot as plt"
   ]
  },
  {
   "cell_type": "markdown",
   "metadata": {},
   "source": [
    "# Results\n",
    "Our results showed models learned to play chess. Though we never got to the point in training where the models are effectively \"good\" at chess.\n",
    "\n",
    "#### Tournament Performance\n",
    "Our models played a total of 120 games in the tournament. The table below shows perfomative differences between our appoaches."
   ]
  },
  {
   "cell_type": "code",
   "execution_count": 21,
   "metadata": {},
   "outputs": [
    {
     "data": {
      "text/html": [
       "<div>\n",
       "<style scoped>\n",
       "    .dataframe tbody tr th:only-of-type {\n",
       "        vertical-align: middle;\n",
       "    }\n",
       "\n",
       "    .dataframe tbody tr th {\n",
       "        vertical-align: top;\n",
       "    }\n",
       "\n",
       "    .dataframe thead th {\n",
       "        text-align: right;\n",
       "    }\n",
       "</style>\n",
       "<table border=\"1\" class=\"dataframe\">\n",
       "  <thead>\n",
       "    <tr style=\"text-align: right;\">\n",
       "      <th></th>\n",
       "      <th>Agent</th>\n",
       "      <th>Wins</th>\n",
       "      <th>Draws</th>\n",
       "      <th>Losses</th>\n",
       "      <th>Points</th>\n",
       "      <th>Win Rate</th>\n",
       "    </tr>\n",
       "  </thead>\n",
       "  <tbody>\n",
       "    <tr>\n",
       "      <th>0</th>\n",
       "      <td>Neural</td>\n",
       "      <td>17</td>\n",
       "      <td>42</td>\n",
       "      <td>1</td>\n",
       "      <td>38.0</td>\n",
       "      <td>28.33%</td>\n",
       "    </tr>\n",
       "    <tr>\n",
       "      <th>1</th>\n",
       "      <td>Hybrid</td>\n",
       "      <td>5</td>\n",
       "      <td>51</td>\n",
       "      <td>4</td>\n",
       "      <td>30.5</td>\n",
       "      <td>8.33%</td>\n",
       "    </tr>\n",
       "    <tr>\n",
       "      <th>2</th>\n",
       "      <td>Minimax</td>\n",
       "      <td>0</td>\n",
       "      <td>60</td>\n",
       "      <td>0</td>\n",
       "      <td>30.0</td>\n",
       "      <td>0.00%</td>\n",
       "    </tr>\n",
       "    <tr>\n",
       "      <th>3</th>\n",
       "      <td>MCTS</td>\n",
       "      <td>0</td>\n",
       "      <td>43</td>\n",
       "      <td>17</td>\n",
       "      <td>21.5</td>\n",
       "      <td>0.00%</td>\n",
       "    </tr>\n",
       "  </tbody>\n",
       "</table>\n",
       "</div>"
      ],
      "text/plain": [
       "     Agent  Wins  Draws  Losses  Points Win Rate\n",
       "0   Neural    17     42       1    38.0   28.33%\n",
       "1   Hybrid     5     51       4    30.5    8.33%\n",
       "2  Minimax     0     60       0    30.0    0.00%\n",
       "3     MCTS     0     43      17    21.5    0.00%"
      ]
     },
     "execution_count": 21,
     "metadata": {},
     "output_type": "execute_result"
    }
   ],
   "source": [
    "tourney = pd.read_csv(\"results/tournament_results.csv\")\n",
    "\n",
    "tourney"
   ]
  },
  {
   "cell_type": "markdown",
   "metadata": {},
   "source": [
    "Notably:\n",
    "1. Minimax showed very high stability, drawing all of its games (60), never lost once but never secured a win either.\n",
    "2. NeuralNet performed the best with a 17/1 record, securing first place.\n",
    "3. Hybrid (NeuralNet + MCTS) performed well with a balanced record of 5/4, barely beating Minimax\n",
    "4. MCTS performed poorly, either lossing or drawing its matchs\n",
    "\n",
    "#### Win Rate Matrix\n",
    "We investigate further by looking at the pairwise win rate matrix, which shows the matchup dynamics:\n",
    "\n",
    "![Win Rate Matrix](results/matchup_heatmap.png)"
   ]
  },
  {
   "cell_type": "markdown",
   "metadata": {},
   "source": [
    "#### Computational Efficiency\n",
    "These metrics reflect how quickly our models made decisions"
   ]
  },
  {
   "cell_type": "code",
   "execution_count": 7,
   "metadata": {},
   "outputs": [
    {
     "data": {
      "text/html": [
       "<div>\n",
       "<style scoped>\n",
       "    .dataframe tbody tr th:only-of-type {\n",
       "        vertical-align: middle;\n",
       "    }\n",
       "\n",
       "    .dataframe tbody tr th {\n",
       "        vertical-align: top;\n",
       "    }\n",
       "\n",
       "    .dataframe thead th {\n",
       "        text-align: right;\n",
       "    }\n",
       "</style>\n",
       "<table border=\"1\" class=\"dataframe\">\n",
       "  <thead>\n",
       "    <tr style=\"text-align: right;\">\n",
       "      <th></th>\n",
       "      <th>Agent</th>\n",
       "      <th>Nodes/Second</th>\n",
       "      <th>Time/Move (s)</th>\n",
       "      <th>Memory Usage</th>\n",
       "    </tr>\n",
       "  </thead>\n",
       "  <tbody>\n",
       "    <tr>\n",
       "      <th>0</th>\n",
       "      <td>Minimax</td>\n",
       "      <td>5275</td>\n",
       "      <td>0.23</td>\n",
       "      <td>Medium</td>\n",
       "    </tr>\n",
       "    <tr>\n",
       "      <th>1</th>\n",
       "      <td>MCTS</td>\n",
       "      <td>1830</td>\n",
       "      <td>0.48</td>\n",
       "      <td>Low</td>\n",
       "    </tr>\n",
       "    <tr>\n",
       "      <th>2</th>\n",
       "      <td>Neural</td>\n",
       "      <td>7920</td>\n",
       "      <td>0.12</td>\n",
       "      <td>High</td>\n",
       "    </tr>\n",
       "    <tr>\n",
       "      <th>3</th>\n",
       "      <td>Hybrid</td>\n",
       "      <td>3280</td>\n",
       "      <td>0.31</td>\n",
       "      <td>High</td>\n",
       "    </tr>\n",
       "  </tbody>\n",
       "</table>\n",
       "</div>"
      ],
      "text/plain": [
       "     Agent  Nodes/Second  Time/Move (s) Memory Usage\n",
       "0  Minimax          5275           0.23       Medium\n",
       "1     MCTS          1830           0.48          Low\n",
       "2   Neural          7920           0.12         High\n",
       "3   Hybrid          3280           0.31         High"
      ]
     },
     "execution_count": 7,
     "metadata": {},
     "output_type": "execute_result"
    }
   ],
   "source": [
    "comp = pd.read_csv(\"evals/agent_performance.csv\")\n",
    "comp"
   ]
  },
  {
   "cell_type": "markdown",
   "metadata": {},
   "source": [
    "The neural agent was the fastest per move, however required high memory because of the model and tensor size. As a result it showed a high rate of exploration. MCTS is the slowest and because of our time-outs in the implementation, explored the least amount of nodes. Minimax showed a balanced speed and memory usage, and seems to be very efficient. Hybrid showed decent speed. We discuss this further in our discussion section."
   ]
  },
  {
   "cell_type": "markdown",
   "metadata": {},
   "source": [
    "#### NeuralNet-PPO Training Loss\n",
    "As mentioned, we kept track of PPO training loss. This loss doesn't directly show chess strength but can give clues into the stability of the policy network.\n",
    "\n",
    "![PPO Training Loss]("results/Neural_Network_(PPO)_training.png")\n",
    "\n",
    "Our result here shows some instability (light blue) but the average seems to stabilize. In order to actually gauge our model's playing strength we kept track of the models' internal elo during self-play."
   ]
  },
  {
   "cell_type": "code",
   "execution_count": 5,
   "metadata": {},
   "outputs": [
    {
     "data": {
      "image/png": "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",
      "text/plain": [
       "<Figure size 1000x500 with 1 Axes>"
      ]
     },
     "metadata": {},
     "output_type": "display_data"
    }
   ],
   "source": [
    "elo = pd.read_csv('evals/best_elo.csv')\n",
    "\n",
    "# Plot the data\n",
    "plt.figure(figsize=(10, 5))\n",
    "plt.plot(elo['iteration'], elo['best_elo'], marker='o', linestyle='-')\n",
    "\n",
    "# Labels and title\n",
    "plt.xlabel('Iteration')\n",
    "plt.ylabel('Best Elo Rating')\n",
    "plt.title('Elo Rating Progression Over Iterations')\n",
    "plt.grid(True)\n",
    "\n",
    "# Show the plot\n",
    "plt.show()"
   ]
  },
  {
   "cell_type": "markdown",
   "metadata": {},
   "source": [
    "The model showed continual improvements in its elo during self play. This indicates that the models trained in future iterations consistently beat previous best models, which is a sign that our models are getting stronger at chess. However this elo rating is only internal and isn't comparable to standard FIDE or online chess elo."
   ]
  },
  {
   "cell_type": "markdown",
   "metadata": {},
   "source": [
    "In order to establish the actual elo of our NeuralNet agent, we pit it against lichess's challenge bot which has an estimated elo of around 800. One of their matches can be seen below. Our agent generally draws against the lichess bot but occassionally loses. Lichess doesn't provide any bot with an elo lower than 800 but we suspect our agent is around 300-400 elo.\n",
    "\n",
    "![NN vs Lichess](visualized_games/NNvLichess.gif)"
   ]
  },
  {
   "attachments": {},
   "cell_type": "markdown",
   "metadata": {},
   "source": [
    "# Discussion\n",
    "Here we discuss our results, and talk about the efficacy of these approaches when it comes to a chess algorithm.\n",
    "\n",
    "\n",
    "#### Stability of Minimax\n",
    "Minimax with alpha-beta pruning showed outstanding stability, not getting any losses during the tournament. The nature of the Minimax algorithm, playing towards the zero-sum, makes it so Minimax minimizes the opponent's advantage. Thus it tends to play games towards a draw. Our results here reflect the success Minimax has seen in the implementation of the DeepBlue chess AI. The AI stumped even the top chess grandmasters back in the days despite its algorithmic simplicity.\n",
    "\n",
    "\n",
    "#### Potential of Hybrid Approaches\n",
    "The hybrid agent showed decent relative performance, securing 2nd place in our tournament. By using Neural Networks to guide the MCTS process, the Hybrid model makes better decisions than the pure MCTS. We suspect that the Hybrid model didn't perform as well as the NeuralNet model did because our MCTS processes (both pure and in the Hybrid model) were heavily gated by computation power. We suspect that with higher computation power and more depth on the MCTS, we could see this model out performing NeuralNet.\n",
    "\n",
    "#### Neural Networks\n",
    "The NeuralNet-PPO approach took first place in our tournament. However it looks like it isn't strong enough still to beat out the Lichess challenge. Judging from our internal elo tracking though we see promise with this approach if we had more training time. Through observing how the model actually plays, we noticed its not really following chess principles like center control, and piece development. The models poor performance against a standard chess engine can definitely be improved through tweaking the reward structure to reward play with good chess principles (like AlphaZero and Stockfish's approach).\n"
   ]
  },
  {
   "cell_type": "markdown",
   "metadata": {},
   "source": [
    "## Limitations\n",
    "1. Limited computational resources: The performance if MCTS and the Hybrid model were heavily cpu gated. Specifically MCTS requires a large amounts of iterations to explore the game tree effectively. However, our current resources cannot accomodate for that.\n",
    "\n",
    "2. Limited training data: The NeuralNet were trained on a relatively small dataset (generated from self-play). Training time was only 7 hours even on a CUDA compatible GPU. We concluded that this could be too small because a casual player could reach this training amount, so our AI approach couldn't show its true potential just yet.\n",
    "\n",
    "3. Simple reward structure: We suspect our reward structure too be too simple. We rewarded material differences and win/draw/loss game result. However, chess is a much more complicated games with principles and strategies that weren't captured in our reward structure."
   ]
  },
  {
   "cell_type": "markdown",
   "metadata": {},
   "source": [
    "# Future work\n",
    "1. Hybrid Algorithm Development: Hybrid Algorithm Development: Based on the limitations of individual algorithms, future work could focus on developing a hybrid method combining Minimax, MCTS and neural networks. For example, neural networks can be used to guide the search processes of Minimax or MCTS. Or, Minimax and MCTS can be used to generate high quality training data for neural networks.\n",
    "   \n",
    "2. Evaluation Metrics Improvement: The current evaluation metrics, such as win rates, computational efficiency, and Top-1 Accuracy, provide a foundational understanding towards algorithm’s performance. However, we can develop more complicated evaluation metrics, to measure strategic depth, adaptability to different opponents, and long term planning capabilities.\n",
    "\n",
    "   \n",
    "3. Real World Deployment: In order to better assess the practicality of the algorithms, we could deploy them in chess games in real world or train human players. This could help discover any possibilities happening in the real world, and improve them right away.\n",
    "\n",
    "   \n",
    "4. Computing Resources: This issue could not be addressed in the short term, but we will train again once we get more computing resources.\n",
    "\n",
    "\n",
    "# Ethics & Privacy\n",
    "The development of chess AI seems simple, but causes subtle ethical concerns. Our agents had developed unique playing styles, exhibiting that although in fields based on rules, algorithmic bias also plays a role. This raises a question about that how AI systems develop their own “tendencies” without explicit programming.\n",
    "\n",
    "Our methods uncovered the resource inequality in AI research, from our computational differences. Neural methods and hybrid methods require strong computing power, which could limit technicians who participate in promoting the technologies and benefit the institutions with plenty of resources.\n",
    "\n",
    "In the wake of that chess AI surpass human, the world of human chess also changes. Players more frequently take advantage of AI games to research and imitate, which could influence the creativity of human in this field. The relationship between human and machine continues to change over time, impacting the chess education and professional games.\n",
    "\n",
    "Models like neural networks lack the transparency like traditional algorithms have. We can precisely explain why minimax agent moved at that way, but neural agent made a decision based on more complicated “weights”, which cannot be easily explained. This lack of transparency challenges that understanding and trusting the decisions made by chess AI, and other AI either.\n",
    "\n",
    "# Conclusion\n",
    "Our comparative methods of chess AI methods show that different algorithms exhibit different benefits and drawbacks. The hybrid methods combining neural networks with MCTS show great competence overall, proving the value of combining learned knowledge with traditional searching. Minimax with Alpha-bet pruning functions exhibit striking stability, while pure MCTS gets stuck in limited iterations.\n",
    "\n",
    "These findings show that the future of chess AI not only is put in choosing traditional algorithms or machine learning, but also in finding the optimal solution of combining them. Our hybrid agent succeeds even in limited training, showing that relatively easy neural architectures can strikingly improve the tree search competence.\n",
    "\n",
    "From the resource perspective, Minimax achieves optimal balance between performance and efficiency, so is really valuable in relatively limited resource environment. Neural methods will have a brilliant future, but needs tons of training to reach its potential.\n",
    "\n",
    "This work provides a controlled comparison for researchers without tons of computing resources, broadly contributing to AI in game fields like chess. The future work will focus on improving neural training processes, including more complicated evaluation functions, and exploring dynamic resource allocation strategies, and so on."
   ]
  },
  {
   "cell_type": "markdown",
   "metadata": {},
   "source": [
    "# Footnotes\n",
    "<a name=\"lorenznote\"></a>1.[^](#lorenz): Lorenz, T. (9 Dec 2021) Birds Aren’t Real, or Are They? Inside a Gen Z Conspiracy Theory. *The New York Times*. https://www.nytimes.com/2021/12/09/technology/birds-arent-real-gen-z-misinformation.html<br> \n",
    "<a name=\"admonishnote\"></a>2.[^](#admonish): Also refs should be important to the background, not some randomly chosen vaguely related stuff. Include a web link if possible in refs as above.<br>\n",
    "<a name=\"sotanote\"></a>3.[^](#sota): Perhaps the current state of the art solution such as you see on [Papers with code](https://paperswithcode.com/sota). Or maybe not SOTA, but rather a standard textbook/Kaggle solution to this kind of problem\n"
   ]
  },
  {
   "cell_type": "code",
   "execution_count": null,
   "metadata": {},
   "outputs": [],
   "source": []
  }
 ],
 "metadata": {
  "kernelspec": {
   "display_name": "Python 3 (ipykernel)",
   "language": "python",
   "name": "python3"
  },
  "language_info": {
   "codemirror_mode": {
    "name": "ipython",
    "version": 3
   },
   "file_extension": ".py",
   "mimetype": "text/x-python",
   "name": "python",
   "nbconvert_exporter": "python",
   "pygments_lexer": "ipython3",
   "version": "3.11.9"
  },
  "vscode": {
   "interpreter": {
    "hash": "40d3a090f54c6569ab1632332b64b2c03c39dcf918b08424e98f38b5ae0af88f"
   }
  }
 },
 "nbformat": 4,
 "nbformat_minor": 4
}
